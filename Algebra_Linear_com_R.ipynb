{
  "nbformat": 4,
  "nbformat_minor": 0,
  "metadata": {
    "colab": {
      "name": "Algebra_Linear_com_R.ipynb",
      "provenance": [],
      "authorship_tag": "ABX9TyMFLlqr8pl6Em462kquFMSq",
      "include_colab_link": true
    },
    "kernelspec": {
      "name": "ir",
      "display_name": "R"
    },
    "language_info": {
      "name": "R"
    }
  },
  "cells": [
    {
      "cell_type": "markdown",
      "metadata": {
        "id": "view-in-github",
        "colab_type": "text"
      },
      "source": [
        "<a href=\"https://colab.research.google.com/github/mvmarcio/Matematica/blob/main/Algebra_Linear_com_R.ipynb\" target=\"_parent\"><img src=\"https://colab.research.google.com/assets/colab-badge.svg\" alt=\"Open In Colab\"/></a>"
      ]
    },
    {
      "cell_type": "markdown",
      "source": [
        "# **Revisão de Álgebra Linear Usando a Linguagem R**\n",
        "\n",
        "O objetivo deste *script* é fazer uma breve revisão dos conceitos básicos de álgebra linear usando o R."
      ],
      "metadata": {
        "id": "rL9fCvf5nzlp"
      }
    },
    {
      "cell_type": "markdown",
      "source": [
        "## **1. Vamos Instalar e Importar Alguns Pacotes Necessários**\n",
        "\n",
        "O comando **install.packages(\"pacote\")** instala uma biblioteca externa para algum fim específico. A função **library(pacote)** chama a função externa do R. Vamos instalar 4 bibliotecas externas do R: [*AER*](https://cran.r-project.org/web/packages/AER/index.html) (*Applied Econometrics with R*) é uma biblioteca para se trabalhar com análise de regressão linear, [*Psych*](https://cran.r-project.org/web/packages/psych/index.html) (*Procedures for Psychological, Psychometric, and Personality Researc*) para se trabalhar com estatísticas descrtivas e [*Openxlsx*](https://cran.r-project.org/web/packages/openxlsx/index.html) (*Read, Write and Edit xlsx Files*) para leitura e exportação de dados em Excel). "
      ],
      "metadata": {
        "id": "xdyyTAVloi1C"
      }
    },
    {
      "cell_type": "code",
      "source": [
        "# Instalando\n",
        "install.packages(\"AER\") # Pacote para testes de regressão linear\n",
        "install.packages(\"psych\") # Pacots para estatísticas descritivas\n",
        "install.packages(\"openxlsx\") # Pacote para leitura e exportação de dados em Excel"
      ],
      "metadata": {
        "id": "o_D92riBoqrR"
      },
      "execution_count": null,
      "outputs": []
    },
    {
      "cell_type": "code",
      "source": [
        "# Carregando\n",
        "library(AER)\n",
        "library(psych)\n",
        "library(openxlsx)"
      ],
      "metadata": {
        "id": "vkwc5sdEpD2-"
      },
      "execution_count": 8,
      "outputs": []
    },
    {
      "cell_type": "code",
      "source": [
        "# Vamos criar nossos espaços vetoriais, também conhecidos como arrays por meio da matrix():\n",
        "\n",
        "a0 = matrix(data = 1, nrow = 1, ncol = 1) # espaço vetorial de dimensão 1 (Interpretado com zero pela linguagem)\n",
        "a1 = matrix(data = c(1, 2), nrow = 1, ncol = 2) # espaço vetorial de dimensão 2 \n",
        "a2 = matrix(data = c(3, 4, 5, 6), nrow = 2, ncol = 2) # matriz 2x2.\n",
        "a3 = matrix(data = c(7, 8, 9, 10), nrow = 4, ncol = 2) # matriz 4x2\n",
        "a4 = matrix(data = c(1, 2, 3, 4, 5, 6, 7, 8, 9), nrow = 3, ncol = 3) # matriz 3x3\n",
        "a5 = matrix(data = c(1, 0, -1, 1, 2, 0.5, 3, 1, 0), nrow = 3, ncol = 3) # matriz 3x3\n",
        "\n",
        "# Vamos visualizar nossos espaços vetoriais:\n",
        "print(a0)\n",
        "print(a1)\n",
        "print(a2)\n",
        "print(a3)\n",
        "print(a4)\n",
        "print(a5)"
      ],
      "metadata": {
        "colab": {
          "base_uri": "https://localhost:8080/"
        },
        "id": "174wuiTlsEeY",
        "outputId": "c3e1669c-0798-454f-b318-28a02391ac42"
      },
      "execution_count": 21,
      "outputs": [
        {
          "output_type": "stream",
          "name": "stdout",
          "text": [
            "     [,1]\n",
            "[1,]    1\n",
            "     [,1] [,2]\n",
            "[1,]    1    2\n",
            "     [,1] [,2]\n",
            "[1,]    3    5\n",
            "[2,]    4    6\n",
            "     [,1] [,2]\n",
            "[1,]    7    7\n",
            "[2,]    8    8\n",
            "[3,]    9    9\n",
            "[4,]   10   10\n",
            "     [,1] [,2] [,3]\n",
            "[1,]    1    4    7\n",
            "[2,]    2    5    8\n",
            "[3,]    3    6    9\n",
            "     [,1] [,2] [,3]\n",
            "[1,]    1  1.0    3\n",
            "[2,]    0  2.0    1\n",
            "[3,]   -1  0.5    0\n"
          ]
        }
      ]
    },
    {
      "cell_type": "markdown",
      "source": [
        "Vamos verificar as dimensões do nossos espaços vetoriais por meio da função dim."
      ],
      "metadata": {
        "id": "oVxnAuh9vai7"
      }
    },
    {
      "cell_type": "code",
      "source": [
        "print('A dimensão de a0:'); dim(a0)\n",
        "print('A dimensão de a1:'); dim(a1)\n",
        "print('A dimensão de a2:'); dim(a2)\n",
        "print('A dimensão de a3:'); dim(a3)\n",
        "print('A dimensão de a4:'); dim(a4)\n",
        "print('A dimensão de a5:'); dim(a5)"
      ],
      "metadata": {
        "colab": {
          "base_uri": "https://localhost:8080/",
          "height": 225
        },
        "id": "Wu3eemAWvurE",
        "outputId": "0af12b08-ff0c-4fd5-86f2-1cafd6fdd0e0"
      },
      "execution_count": 22,
      "outputs": [
        {
          "output_type": "stream",
          "name": "stdout",
          "text": [
            "[1] \"A dimensão de a0:\"\n"
          ]
        },
        {
          "output_type": "display_data",
          "data": {
            "text/html": [
              "<style>\n",
              ".list-inline {list-style: none; margin:0; padding: 0}\n",
              ".list-inline>li {display: inline-block}\n",
              ".list-inline>li:not(:last-child)::after {content: \"\\00b7\"; padding: 0 .5ex}\n",
              "</style>\n",
              "<ol class=list-inline><li>1</li><li>1</li></ol>\n"
            ],
            "text/markdown": "1. 1\n2. 1\n\n\n",
            "text/latex": "\\begin{enumerate*}\n\\item 1\n\\item 1\n\\end{enumerate*}\n",
            "text/plain": [
              "[1] 1 1"
            ]
          },
          "metadata": {}
        },
        {
          "output_type": "stream",
          "name": "stdout",
          "text": [
            "[1] \"A dimensão de a1:\"\n"
          ]
        },
        {
          "output_type": "display_data",
          "data": {
            "text/html": [
              "<style>\n",
              ".list-inline {list-style: none; margin:0; padding: 0}\n",
              ".list-inline>li {display: inline-block}\n",
              ".list-inline>li:not(:last-child)::after {content: \"\\00b7\"; padding: 0 .5ex}\n",
              "</style>\n",
              "<ol class=list-inline><li>1</li><li>2</li></ol>\n"
            ],
            "text/markdown": "1. 1\n2. 2\n\n\n",
            "text/latex": "\\begin{enumerate*}\n\\item 1\n\\item 2\n\\end{enumerate*}\n",
            "text/plain": [
              "[1] 1 2"
            ]
          },
          "metadata": {}
        },
        {
          "output_type": "stream",
          "name": "stdout",
          "text": [
            "[1] \"A dimensão de a2:\"\n"
          ]
        },
        {
          "output_type": "display_data",
          "data": {
            "text/html": [
              "<style>\n",
              ".list-inline {list-style: none; margin:0; padding: 0}\n",
              ".list-inline>li {display: inline-block}\n",
              ".list-inline>li:not(:last-child)::after {content: \"\\00b7\"; padding: 0 .5ex}\n",
              "</style>\n",
              "<ol class=list-inline><li>2</li><li>2</li></ol>\n"
            ],
            "text/markdown": "1. 2\n2. 2\n\n\n",
            "text/latex": "\\begin{enumerate*}\n\\item 2\n\\item 2\n\\end{enumerate*}\n",
            "text/plain": [
              "[1] 2 2"
            ]
          },
          "metadata": {}
        },
        {
          "output_type": "stream",
          "name": "stdout",
          "text": [
            "[1] \"A dimensão de a3:\"\n"
          ]
        },
        {
          "output_type": "display_data",
          "data": {
            "text/html": [
              "<style>\n",
              ".list-inline {list-style: none; margin:0; padding: 0}\n",
              ".list-inline>li {display: inline-block}\n",
              ".list-inline>li:not(:last-child)::after {content: \"\\00b7\"; padding: 0 .5ex}\n",
              "</style>\n",
              "<ol class=list-inline><li>4</li><li>2</li></ol>\n"
            ],
            "text/markdown": "1. 4\n2. 2\n\n\n",
            "text/latex": "\\begin{enumerate*}\n\\item 4\n\\item 2\n\\end{enumerate*}\n",
            "text/plain": [
              "[1] 4 2"
            ]
          },
          "metadata": {}
        },
        {
          "output_type": "stream",
          "name": "stdout",
          "text": [
            "[1] \"A dimensão de a4:\"\n"
          ]
        },
        {
          "output_type": "display_data",
          "data": {
            "text/html": [
              "<style>\n",
              ".list-inline {list-style: none; margin:0; padding: 0}\n",
              ".list-inline>li {display: inline-block}\n",
              ".list-inline>li:not(:last-child)::after {content: \"\\00b7\"; padding: 0 .5ex}\n",
              "</style>\n",
              "<ol class=list-inline><li>3</li><li>3</li></ol>\n"
            ],
            "text/markdown": "1. 3\n2. 3\n\n\n",
            "text/latex": "\\begin{enumerate*}\n\\item 3\n\\item 3\n\\end{enumerate*}\n",
            "text/plain": [
              "[1] 3 3"
            ]
          },
          "metadata": {}
        },
        {
          "output_type": "stream",
          "name": "stdout",
          "text": [
            "[1] \"A dimensão de a5:\"\n"
          ]
        },
        {
          "output_type": "display_data",
          "data": {
            "text/html": [
              "<style>\n",
              ".list-inline {list-style: none; margin:0; padding: 0}\n",
              ".list-inline>li {display: inline-block}\n",
              ".list-inline>li:not(:last-child)::after {content: \"\\00b7\"; padding: 0 .5ex}\n",
              "</style>\n",
              "<ol class=list-inline><li>3</li><li>3</li></ol>\n"
            ],
            "text/markdown": "1. 3\n2. 3\n\n\n",
            "text/latex": "\\begin{enumerate*}\n\\item 3\n\\item 3\n\\end{enumerate*}\n",
            "text/plain": [
              "[1] 3 3"
            ]
          },
          "metadata": {}
        }
      ]
    },
    {
      "cell_type": "markdown",
      "source": [
        "Agora vamos realizar operações aritméticas com os vetores e matrizes: adição e subtração por escalar, multiplicação e divisão por escalar, multiplicação entre espaços vetoriais e determinantes."
      ],
      "metadata": {
        "id": "-nPOZtX8wWMk"
      }
    },
    {
      "cell_type": "code",
      "source": [
        "matriz1 <- a4 # a matriz1 recebe o objeto a4\n",
        "matriz2 <- a5 # a matriz2 recete o objeto a5\n",
        "\n",
        "print(matriz1)\n",
        "print(matriz2)"
      ],
      "metadata": {
        "colab": {
          "base_uri": "https://localhost:8080/"
        },
        "id": "qf9JCortwdZj",
        "outputId": "b575a4b1-0004-4b6d-e1b7-f158c5fea8b9"
      },
      "execution_count": 23,
      "outputs": [
        {
          "output_type": "stream",
          "name": "stdout",
          "text": [
            "     [,1] [,2] [,3]\n",
            "[1,]    1    4    7\n",
            "[2,]    2    5    8\n",
            "[3,]    3    6    9\n",
            "     [,1] [,2] [,3]\n",
            "[1,]    1  1.0    3\n",
            "[2,]    0  2.0    1\n",
            "[3,]   -1  0.5    0\n"
          ]
        }
      ]
    },
    {
      "cell_type": "markdown",
      "source": [
        "Vamos realizar operações elementares com as matrizes como soma, subtração, multiplicação, divisão, potências e raízes. "
      ],
      "metadata": {
        "id": "BgU6iOE8xS_r"
      }
    },
    {
      "cell_type": "code",
      "source": [
        "print(matriz1 + matriz2) # soma cada elemento da linha (i) e coluna (j)\n",
        "print(matriz1 - matriz2) # subtrai cada elemento da linha (i) e coluna (j)\n",
        "print(matriz1 * 2) # multiplica a matriz1 pelo escalar 2\n",
        "print(matriz2 / 2) # divide a matriz2 pelo escalar 2\n",
        "print(matriz2 ** 2) # faz a potência de cada elemento da matriz2 pelo escalar 2\n",
        "print(matriz1 ** 0.5) # retira a raiz quadrada de cada elemento da matriz1"
      ],
      "metadata": {
        "colab": {
          "base_uri": "https://localhost:8080/"
        },
        "id": "TeMJdj3axGa8",
        "outputId": "c511c52d-633e-4960-bbf6-5ff8f7797a9c"
      },
      "execution_count": 24,
      "outputs": [
        {
          "output_type": "stream",
          "name": "stdout",
          "text": [
            "     [,1] [,2] [,3]\n",
            "[1,]    2  5.0   10\n",
            "[2,]    2  7.0    9\n",
            "[3,]    2  6.5    9\n",
            "     [,1] [,2] [,3]\n",
            "[1,]    0  3.0    4\n",
            "[2,]    2  3.0    7\n",
            "[3,]    4  5.5    9\n",
            "     [,1] [,2] [,3]\n",
            "[1,]    2    8   14\n",
            "[2,]    4   10   16\n",
            "[3,]    6   12   18\n",
            "     [,1] [,2] [,3]\n",
            "[1,]  0.5 0.50  1.5\n",
            "[2,]  0.0 1.00  0.5\n",
            "[3,] -0.5 0.25  0.0\n",
            "     [,1] [,2] [,3]\n",
            "[1,]    1 1.00    9\n",
            "[2,]    0 4.00    1\n",
            "[3,]    1 0.25    0\n",
            "         [,1]     [,2]     [,3]\n",
            "[1,] 1.000000 2.000000 2.645751\n",
            "[2,] 1.414214 2.236068 2.828427\n",
            "[3,] 1.732051 2.449490 3.000000\n"
          ]
        }
      ]
    },
    {
      "cell_type": "markdown",
      "source": [
        "Agora vamos fazer o produto de matrizes. Lembrando que para fazer tal operação, é necessário que o número de colunas da primeira matriz seja igual ao número de linhas da segunda. Utilizamos o operador %*% no R."
      ],
      "metadata": {
        "id": "Fn3i2GLsxod7"
      }
    },
    {
      "cell_type": "code",
      "source": [
        "produto_m = matriz1 %*% matriz2\n",
        "produto_m"
      ],
      "metadata": {
        "colab": {
          "base_uri": "https://localhost:8080/",
          "height": 146
        },
        "id": "ACLOslYTx1Fa",
        "outputId": "3547e519-aa4c-4297-9762-868a98777fbf"
      },
      "execution_count": 26,
      "outputs": [
        {
          "output_type": "display_data",
          "data": {
            "text/html": [
              "<table class=\"dataframe\">\n",
              "<caption>A matrix: 3 × 3 of type dbl</caption>\n",
              "<tbody>\n",
              "\t<tr><td>-6</td><td>12.5</td><td> 7</td></tr>\n",
              "\t<tr><td>-6</td><td>16.0</td><td>11</td></tr>\n",
              "\t<tr><td>-6</td><td>19.5</td><td>15</td></tr>\n",
              "</tbody>\n",
              "</table>\n"
            ],
            "text/markdown": "\nA matrix: 3 × 3 of type dbl\n\n| -6 | 12.5 |  7 |\n| -6 | 16.0 | 11 |\n| -6 | 19.5 | 15 |\n\n",
            "text/latex": "A matrix: 3 × 3 of type dbl\n\\begin{tabular}{lll}\n\t -6 & 12.5 &  7\\\\\n\t -6 & 16.0 & 11\\\\\n\t -6 & 19.5 & 15\\\\\n\\end{tabular}\n",
            "text/plain": [
              "     [,1] [,2] [,3]\n",
              "[1,] -6   12.5  7  \n",
              "[2,] -6   16.0 11  \n",
              "[3,] -6   19.5 15  "
            ]
          },
          "metadata": {}
        }
      ]
    },
    {
      "cell_type": "markdown",
      "source": [
        "Agora vamos calcular o determinante de matrizes. Para tal é importante lembrar que só podemos calcular determinantes de matrizes quadradas, isto é, quando o número de linhas é igual ao número de colunas. Utilizamos a função det() do R."
      ],
      "metadata": {
        "id": "ly_-7olRyH3c"
      }
    },
    {
      "cell_type": "code",
      "source": [
        "det1 = det(matriz1) # calcula o determinante da matriz1\n",
        "det2 = det(matriz2) # calcula o determinte da matriz2\n",
        "\n",
        "det1\n",
        "det2"
      ],
      "metadata": {
        "colab": {
          "base_uri": "https://localhost:8080/",
          "height": 52
        },
        "id": "OSts7pcqyiqL",
        "outputId": "ecd40332-d930-4adc-ab0e-04c49f2e15e7"
      },
      "execution_count": 27,
      "outputs": [
        {
          "output_type": "display_data",
          "data": {
            "text/html": [
              "0"
            ],
            "text/markdown": "0",
            "text/latex": "0",
            "text/plain": [
              "[1] 0"
            ]
          },
          "metadata": {}
        },
        {
          "output_type": "display_data",
          "data": {
            "text/html": [
              "4.5"
            ],
            "text/markdown": "4.5",
            "text/latex": "4.5",
            "text/plain": [
              "[1] 4.5"
            ]
          },
          "metadata": {}
        }
      ]
    },
    {
      "cell_type": "markdown",
      "source": [
        "Agora vamos calcular a **matriz inversa**. O produto da matriz pela sua matriz inversa gera a matriz identidade. Outra informação importante é que apenas matrizes quadradas podem ser invertidas e o seu determinante não pode ser zero. Para fazer tal cálculo utilizamos a função solve(). "
      ],
      "metadata": {
        "id": "R-o8kCGWysnp"
      }
    },
    {
      "cell_type": "code",
      "source": [
        "inversa2 = solve(matriz2) # inversa da matriz2\n",
        "inversa2"
      ],
      "metadata": {
        "colab": {
          "base_uri": "https://localhost:8080/",
          "height": 128
        },
        "id": "2IaddZ4Cy0ux",
        "outputId": "fca53df1-f4d4-4900-dda2-095653a7a2dc"
      },
      "execution_count": 29,
      "outputs": [
        {
          "output_type": "display_data",
          "data": {
            "text/html": [
              "<table class=\"dataframe\">\n",
              "<caption>A matrix: 3 × 3 of type dbl</caption>\n",
              "<tbody>\n",
              "\t<tr><td>-0.1111111</td><td> 0.3333333</td><td>-1.1111111</td></tr>\n",
              "\t<tr><td>-0.2222222</td><td> 0.6666667</td><td>-0.2222222</td></tr>\n",
              "\t<tr><td> 0.4444444</td><td>-0.3333333</td><td> 0.4444444</td></tr>\n",
              "</tbody>\n",
              "</table>\n"
            ],
            "text/markdown": "\nA matrix: 3 × 3 of type dbl\n\n| -0.1111111 |  0.3333333 | -1.1111111 |\n| -0.2222222 |  0.6666667 | -0.2222222 |\n|  0.4444444 | -0.3333333 |  0.4444444 |\n\n",
            "text/latex": "A matrix: 3 × 3 of type dbl\n\\begin{tabular}{lll}\n\t -0.1111111 &  0.3333333 & -1.1111111\\\\\n\t -0.2222222 &  0.6666667 & -0.2222222\\\\\n\t  0.4444444 & -0.3333333 &  0.4444444\\\\\n\\end{tabular}\n",
            "text/plain": [
              "     [,1]       [,2]       [,3]      \n",
              "[1,] -0.1111111  0.3333333 -1.1111111\n",
              "[2,] -0.2222222  0.6666667 -0.2222222\n",
              "[3,]  0.4444444 -0.3333333  0.4444444"
            ]
          },
          "metadata": {}
        }
      ]
    },
    {
      "cell_type": "markdown",
      "source": [
        "Vamos criar uma matriz transposta, isto é, vamos inverter os elementos da linha i e coluna j. Uma matriz 4x2 ao ser transposta fica com a dimensão 2x4. A notação da matriz transposta pode ser data dessa forma $M^T$ ou $M'$. "
      ],
      "metadata": {
        "id": "MkofhHMhzFbR"
      }
    },
    {
      "cell_type": "code",
      "source": [
        "# Vamos transpor a matriz 3, que é 4x2 e ficará 2x4\n",
        "mta3 <- t(a3)\n",
        "\n",
        "print(mta3) # matriz transposta de a3\n",
        "print(dim(a3)) # dimensão de a3\n",
        "print(dim(mta3)) # dimensão da tranposta de a3"
      ],
      "metadata": {
        "colab": {
          "base_uri": "https://localhost:8080/"
        },
        "id": "9yPEnlAmzciQ",
        "outputId": "db1c441d-6b01-4f29-829b-eedcb9c6209f"
      },
      "execution_count": 31,
      "outputs": [
        {
          "output_type": "stream",
          "name": "stdout",
          "text": [
            "     [,1] [,2] [,3] [,4]\n",
            "[1,]    7    8    9   10\n",
            "[2,]    7    8    9   10\n",
            "[1] 4 2\n",
            "[1] 2 4\n"
          ]
        }
      ]
    },
    {
      "cell_type": "markdown",
      "source": [
        "Podemos gerar valores aleatórios com o Numpy por meio das distribuições de probabilidade, como a Normal, Poisson, Gama, Binomial, Uniforme Discreta, Uniforme Contínua, etc. Vamos simular a Normal, Uniforme Contínua e Poisson."
      ],
      "metadata": {
        "id": "DhU1GzH30XIB"
      }
    },
    {
      "cell_type": "markdown",
      "source": [
        "### 1. Normal"
      ],
      "metadata": {
        "id": "nUxnT_rK0gwr"
      }
    },
    {
      "cell_type": "code",
      "source": [
        "# Vamos criar uma normal com média 2250 e desvio padrão 36 com n = 20. O objetivo é simular salários\n",
        "\n",
        "normal = round(rnorm(20, mean = 1200, sd = 36), 2)\n",
        "normal"
      ],
      "metadata": {
        "colab": {
          "base_uri": "https://localhost:8080/",
          "height": 34
        },
        "id": "NaIyWjIA0leP",
        "outputId": "67329458-82c2-4687-e173-43276fcd8be7"
      },
      "execution_count": 32,
      "outputs": [
        {
          "output_type": "display_data",
          "data": {
            "text/html": [
              "<style>\n",
              ".list-inline {list-style: none; margin:0; padding: 0}\n",
              ".list-inline>li {display: inline-block}\n",
              ".list-inline>li:not(:last-child)::after {content: \"\\00b7\"; padding: 0 .5ex}\n",
              "</style>\n",
              "<ol class=list-inline><li>1262.43</li><li>1216.87</li><li>1238.87</li><li>1217.41</li><li>1238.94</li><li>1209.19</li><li>1158.37</li><li>1214.76</li><li>1161.55</li><li>1221.28</li><li>1145.11</li><li>1205.26</li><li>1175.22</li><li>1208.09</li><li>1218.36</li><li>1195.6</li><li>1140.94</li><li>1169.56</li><li>1287</li><li>1209.25</li></ol>\n"
            ],
            "text/markdown": "1. 1262.43\n2. 1216.87\n3. 1238.87\n4. 1217.41\n5. 1238.94\n6. 1209.19\n7. 1158.37\n8. 1214.76\n9. 1161.55\n10. 1221.28\n11. 1145.11\n12. 1205.26\n13. 1175.22\n14. 1208.09\n15. 1218.36\n16. 1195.6\n17. 1140.94\n18. 1169.56\n19. 1287\n20. 1209.25\n\n\n",
            "text/latex": "\\begin{enumerate*}\n\\item 1262.43\n\\item 1216.87\n\\item 1238.87\n\\item 1217.41\n\\item 1238.94\n\\item 1209.19\n\\item 1158.37\n\\item 1214.76\n\\item 1161.55\n\\item 1221.28\n\\item 1145.11\n\\item 1205.26\n\\item 1175.22\n\\item 1208.09\n\\item 1218.36\n\\item 1195.6\n\\item 1140.94\n\\item 1169.56\n\\item 1287\n\\item 1209.25\n\\end{enumerate*}\n",
            "text/plain": [
              " [1] 1262.43 1216.87 1238.87 1217.41 1238.94 1209.19 1158.37 1214.76 1161.55\n",
              "[10] 1221.28 1145.11 1205.26 1175.22 1208.09 1218.36 1195.60 1140.94 1169.56\n",
              "[19] 1287.00 1209.25"
            ]
          },
          "metadata": {}
        }
      ]
    },
    {
      "cell_type": "code",
      "source": [
        "# Vamos visualizar as principais estatísticas descritivas\n",
        "\n",
        "desctrivas1 = psych::describe(normal, quant = c(0.25, 0.75))\n",
        "desctrivas1"
      ],
      "metadata": {
        "colab": {
          "base_uri": "https://localhost:8080/",
          "height": 129
        },
        "id": "ke0z_LrR92_O",
        "outputId": "bc1fec9b-91ca-4764-d395-5208607bb670"
      },
      "execution_count": 47,
      "outputs": [
        {
          "output_type": "display_data",
          "data": {
            "text/html": [
              "<table class=\"dataframe\">\n",
              "<caption>A psych: 1 × 15</caption>\n",
              "<thead>\n",
              "\t<tr><th scope=col>vars</th><th scope=col>n</th><th scope=col>mean</th><th scope=col>sd</th><th scope=col>median</th><th scope=col>trimmed</th><th scope=col>mad</th><th scope=col>min</th><th scope=col>max</th><th scope=col>range</th><th scope=col>skew</th><th scope=col>kurtosis</th><th scope=col>se</th><th scope=col>Q0.25</th><th scope=col>Q0.75</th></tr>\n",
              "\t<tr><th scope=col>&lt;dbl&gt;</th><th scope=col>&lt;dbl&gt;</th><th scope=col>&lt;dbl&gt;</th><th scope=col>&lt;dbl&gt;</th><th scope=col>&lt;dbl&gt;</th><th scope=col>&lt;dbl&gt;</th><th scope=col>&lt;dbl&gt;</th><th scope=col>&lt;dbl&gt;</th><th scope=col>&lt;dbl&gt;</th><th scope=col>&lt;dbl&gt;</th><th scope=col>&lt;dbl&gt;</th><th scope=col>&lt;dbl&gt;</th><th scope=col>&lt;dbl&gt;</th><th scope=col>&lt;dbl&gt;</th><th scope=col>&lt;dbl&gt;</th></tr>\n",
              "</thead>\n",
              "<tbody>\n",
              "\t<tr><td>1</td><td>20</td><td>1204.703</td><td>37.82399</td><td>1209.22</td><td>1203.661</td><td>32.07605</td><td>1140.94</td><td>1287</td><td>146.06</td><td>0.1122453</td><td>-0.5720787</td><td>8.4577</td><td>1173.805</td><td>1219.09</td></tr>\n",
              "</tbody>\n",
              "</table>\n"
            ],
            "text/markdown": "\nA psych: 1 × 15\n\n| vars &lt;dbl&gt; | n &lt;dbl&gt; | mean &lt;dbl&gt; | sd &lt;dbl&gt; | median &lt;dbl&gt; | trimmed &lt;dbl&gt; | mad &lt;dbl&gt; | min &lt;dbl&gt; | max &lt;dbl&gt; | range &lt;dbl&gt; | skew &lt;dbl&gt; | kurtosis &lt;dbl&gt; | se &lt;dbl&gt; | Q0.25 &lt;dbl&gt; | Q0.75 &lt;dbl&gt; |\n|---|---|---|---|---|---|---|---|---|---|---|---|---|---|---|\n| 1 | 20 | 1204.703 | 37.82399 | 1209.22 | 1203.661 | 32.07605 | 1140.94 | 1287 | 146.06 | 0.1122453 | -0.5720787 | 8.4577 | 1173.805 | 1219.09 |\n\n",
            "text/latex": "A psych: 1 × 15\n\\begin{tabular}{lllllllllllllll}\n vars & n & mean & sd & median & trimmed & mad & min & max & range & skew & kurtosis & se & Q0.25 & Q0.75\\\\\n <dbl> & <dbl> & <dbl> & <dbl> & <dbl> & <dbl> & <dbl> & <dbl> & <dbl> & <dbl> & <dbl> & <dbl> & <dbl> & <dbl> & <dbl>\\\\\n\\hline\n\t 1 & 20 & 1204.703 & 37.82399 & 1209.22 & 1203.661 & 32.07605 & 1140.94 & 1287 & 146.06 & 0.1122453 & -0.5720787 & 8.4577 & 1173.805 & 1219.09\\\\\n\\end{tabular}\n",
            "text/plain": [
              "  vars n  mean     sd       median  trimmed  mad      min     max  range \n",
              "1 1    20 1204.703 37.82399 1209.22 1203.661 32.07605 1140.94 1287 146.06\n",
              "  skew      kurtosis   se     Q0.25    Q0.75  \n",
              "1 0.1122453 -0.5720787 8.4577 1173.805 1219.09"
            ]
          },
          "metadata": {}
        }
      ]
    },
    {
      "cell_type": "markdown",
      "source": [
        "Por ser uma distribuição simétrica, os valores da média foram próximos dos da mediana. Vamos visualizar o histograma:"
      ],
      "metadata": {
        "id": "ctceZVxl-TAU"
      }
    },
    {
      "cell_type": "code",
      "source": [
        "hist(normal, main = \"Histograma - Normal\", col = \"white\", border = \"black\", ylab = \"Frequência\", xlab = \"Intervalo\")"
      ],
      "metadata": {
        "colab": {
          "base_uri": "https://localhost:8080/",
          "height": 437
        },
        "id": "slvHIQdM-hxL",
        "outputId": "2abbb4d4-ffc1-4b8a-8ba9-aea061eb8464"
      },
      "execution_count": 48,
      "outputs": [
        {
          "output_type": "display_data",
          "data": {
            "text/plain": [
              "Plot with title “Histograma - Normal”"
            ],
            "image/png": "[encoded data removed]"
          },
          "metadata": {
            "image/png": {
              "width": 420,
              "height": 420
            }
          }
        }
      ]
    },
    {
      "cell_type": "markdown",
      "source": [
        "### 2. Uniforme"
      ],
      "metadata": {
        "id": "OhLAa8da1XF_"
      }
    },
    {
      "cell_type": "code",
      "source": [
        "# Vamos criar uma distribuição uniforme discreta, com valores de 0 a 60 para emular as dezenas da mega sena\n",
        "\n",
        "uniforme1 = round(runif(20, min = 0, max = 60), 2)\n",
        "uniforme1"
      ],
      "metadata": {
        "colab": {
          "base_uri": "https://localhost:8080/",
          "height": 34
        },
        "id": "5Gmrr3Vv1USv",
        "outputId": "3ca64d74-a8e7-4e0b-cfce-9f9470fa8eb2"
      },
      "execution_count": 33,
      "outputs": [
        {
          "output_type": "display_data",
          "data": {
            "text/html": [
              "<style>\n",
              ".list-inline {list-style: none; margin:0; padding: 0}\n",
              ".list-inline>li {display: inline-block}\n",
              ".list-inline>li:not(:last-child)::after {content: \"\\00b7\"; padding: 0 .5ex}\n",
              "</style>\n",
              "<ol class=list-inline><li>14.51</li><li>4.65</li><li>19.25</li><li>3.48</li><li>31.64</li><li>52.14</li><li>34.61</li><li>23.98</li><li>31.88</li><li>39.24</li><li>16.38</li><li>8.6</li><li>29.64</li><li>14.71</li><li>30.53</li><li>30.56</li><li>49.37</li><li>17.44</li><li>21.49</li><li>40.8</li></ol>\n"
            ],
            "text/markdown": "1. 14.51\n2. 4.65\n3. 19.25\n4. 3.48\n5. 31.64\n6. 52.14\n7. 34.61\n8. 23.98\n9. 31.88\n10. 39.24\n11. 16.38\n12. 8.6\n13. 29.64\n14. 14.71\n15. 30.53\n16. 30.56\n17. 49.37\n18. 17.44\n19. 21.49\n20. 40.8\n\n\n",
            "text/latex": "\\begin{enumerate*}\n\\item 14.51\n\\item 4.65\n\\item 19.25\n\\item 3.48\n\\item 31.64\n\\item 52.14\n\\item 34.61\n\\item 23.98\n\\item 31.88\n\\item 39.24\n\\item 16.38\n\\item 8.6\n\\item 29.64\n\\item 14.71\n\\item 30.53\n\\item 30.56\n\\item 49.37\n\\item 17.44\n\\item 21.49\n\\item 40.8\n\\end{enumerate*}\n",
            "text/plain": [
              " [1] 14.51  4.65 19.25  3.48 31.64 52.14 34.61 23.98 31.88 39.24 16.38  8.60\n",
              "[13] 29.64 14.71 30.53 30.56 49.37 17.44 21.49 40.80"
            ]
          },
          "metadata": {}
        }
      ]
    },
    {
      "cell_type": "code",
      "source": [
        "# Vamos visualizar as principais estatísticas descritivas\n",
        "\n",
        "desctrivas2 = psych::describe(uniforme1, quant = c(0.25, 0.75))\n",
        "desctrivas2"
      ],
      "metadata": {
        "colab": {
          "base_uri": "https://localhost:8080/",
          "height": 129
        },
        "id": "_aQGqqvU-4-M",
        "outputId": "c2c5214b-e165-4f07-e156-e17182885ad1"
      },
      "execution_count": 49,
      "outputs": [
        {
          "output_type": "display_data",
          "data": {
            "text/html": [
              "<table class=\"dataframe\">\n",
              "<caption>A psych: 1 × 15</caption>\n",
              "<thead>\n",
              "\t<tr><th scope=col>vars</th><th scope=col>n</th><th scope=col>mean</th><th scope=col>sd</th><th scope=col>median</th><th scope=col>trimmed</th><th scope=col>mad</th><th scope=col>min</th><th scope=col>max</th><th scope=col>range</th><th scope=col>skew</th><th scope=col>kurtosis</th><th scope=col>se</th><th scope=col>Q0.25</th><th scope=col>Q0.75</th></tr>\n",
              "\t<tr><th scope=col>&lt;dbl&gt;</th><th scope=col>&lt;dbl&gt;</th><th scope=col>&lt;dbl&gt;</th><th scope=col>&lt;dbl&gt;</th><th scope=col>&lt;dbl&gt;</th><th scope=col>&lt;dbl&gt;</th><th scope=col>&lt;dbl&gt;</th><th scope=col>&lt;dbl&gt;</th><th scope=col>&lt;dbl&gt;</th><th scope=col>&lt;dbl&gt;</th><th scope=col>&lt;dbl&gt;</th><th scope=col>&lt;dbl&gt;</th><th scope=col>&lt;dbl&gt;</th><th scope=col>&lt;dbl&gt;</th><th scope=col>&lt;dbl&gt;</th></tr>\n",
              "</thead>\n",
              "<tbody>\n",
              "\t<tr><td>1</td><td>20</td><td>25.745</td><td>13.72396</td><td>26.81</td><td>25.32875</td><td>14.67774</td><td>3.48</td><td>52.14</td><td>48.66</td><td>0.1717875</td><td>-0.9322609</td><td>3.06877</td><td>15.9625</td><td>32.5625</td></tr>\n",
              "</tbody>\n",
              "</table>\n"
            ],
            "text/markdown": "\nA psych: 1 × 15\n\n| vars &lt;dbl&gt; | n &lt;dbl&gt; | mean &lt;dbl&gt; | sd &lt;dbl&gt; | median &lt;dbl&gt; | trimmed &lt;dbl&gt; | mad &lt;dbl&gt; | min &lt;dbl&gt; | max &lt;dbl&gt; | range &lt;dbl&gt; | skew &lt;dbl&gt; | kurtosis &lt;dbl&gt; | se &lt;dbl&gt; | Q0.25 &lt;dbl&gt; | Q0.75 &lt;dbl&gt; |\n|---|---|---|---|---|---|---|---|---|---|---|---|---|---|---|\n| 1 | 20 | 25.745 | 13.72396 | 26.81 | 25.32875 | 14.67774 | 3.48 | 52.14 | 48.66 | 0.1717875 | -0.9322609 | 3.06877 | 15.9625 | 32.5625 |\n\n",
            "text/latex": "A psych: 1 × 15\n\\begin{tabular}{lllllllllllllll}\n vars & n & mean & sd & median & trimmed & mad & min & max & range & skew & kurtosis & se & Q0.25 & Q0.75\\\\\n <dbl> & <dbl> & <dbl> & <dbl> & <dbl> & <dbl> & <dbl> & <dbl> & <dbl> & <dbl> & <dbl> & <dbl> & <dbl> & <dbl> & <dbl>\\\\\n\\hline\n\t 1 & 20 & 25.745 & 13.72396 & 26.81 & 25.32875 & 14.67774 & 3.48 & 52.14 & 48.66 & 0.1717875 & -0.9322609 & 3.06877 & 15.9625 & 32.5625\\\\\n\\end{tabular}\n",
            "text/plain": [
              "  vars n  mean   sd       median trimmed  mad      min  max   range skew     \n",
              "1 1    20 25.745 13.72396 26.81  25.32875 14.67774 3.48 52.14 48.66 0.1717875\n",
              "  kurtosis   se      Q0.25   Q0.75  \n",
              "1 -0.9322609 3.06877 15.9625 32.5625"
            ]
          },
          "metadata": {}
        }
      ]
    },
    {
      "cell_type": "markdown",
      "source": [
        "A distribuição uniforme tem a característica de que os valores têm a mesma probabilidade de ocorrência. A média e a mediana foram bem próximas. Vamos visualizar o histograma:"
      ],
      "metadata": {
        "id": "0f0VC6k4_AXD"
      }
    },
    {
      "cell_type": "code",
      "source": [
        "hist(uniforme1, main = \"Histograma - Uniforme\", col = \"white\", border = \"black\", ylab = \"Frequência\", xlab = \"Intervalo\")"
      ],
      "metadata": {
        "colab": {
          "base_uri": "https://localhost:8080/",
          "height": 437
        },
        "id": "lIb2MLPv_WnZ",
        "outputId": "7d36c8a0-b593-4a47-ca41-ea316f086eb2"
      },
      "execution_count": 50,
      "outputs": [
        {
          "output_type": "display_data",
          "data": {
            "text/plain": [
              "Plot with title “Histograma - Uniforme”"
            ],
            "image/png": "[encoded data removed]"
          },
          "metadata": {
            "image/png": {
              "width": 420,
              "height": 420
            }
          }
        }
      ]
    },
    {
      "cell_type": "markdown",
      "source": [
        ""
      ],
      "metadata": {
        "id": "5Kkc_upM1tY_"
      }
    },
    {
      "cell_type": "markdown",
      "source": [
        "### 3. Poisson"
      ],
      "metadata": {
        "id": "st1TagCx1ta8"
      }
    },
    {
      "cell_type": "code",
      "source": [
        "# Vamos criar uma distribuição Poisson com lambda = 2, para emular número de filhos por casal\n",
        "\n",
        "poisson1 = rpois(20, 2)\n",
        "poisson1"
      ],
      "metadata": {
        "colab": {
          "base_uri": "https://localhost:8080/",
          "height": 34
        },
        "id": "lL01U8ha1qdA",
        "outputId": "f49559bb-d310-403c-88ac-54becf7435e7"
      },
      "execution_count": 35,
      "outputs": [
        {
          "output_type": "display_data",
          "data": {
            "text/html": [
              "<style>\n",
              ".list-inline {list-style: none; margin:0; padding: 0}\n",
              ".list-inline>li {display: inline-block}\n",
              ".list-inline>li:not(:last-child)::after {content: \"\\00b7\"; padding: 0 .5ex}\n",
              "</style>\n",
              "<ol class=list-inline><li>2</li><li>1</li><li>1</li><li>2</li><li>4</li><li>0</li><li>2</li><li>2</li><li>2</li><li>2</li><li>0</li><li>4</li><li>3</li><li>0</li><li>3</li><li>2</li><li>0</li><li>0</li><li>2</li><li>1</li></ol>\n"
            ],
            "text/markdown": "1. 2\n2. 1\n3. 1\n4. 2\n5. 4\n6. 0\n7. 2\n8. 2\n9. 2\n10. 2\n11. 0\n12. 4\n13. 3\n14. 0\n15. 3\n16. 2\n17. 0\n18. 0\n19. 2\n20. 1\n\n\n",
            "text/latex": "\\begin{enumerate*}\n\\item 2\n\\item 1\n\\item 1\n\\item 2\n\\item 4\n\\item 0\n\\item 2\n\\item 2\n\\item 2\n\\item 2\n\\item 0\n\\item 4\n\\item 3\n\\item 0\n\\item 3\n\\item 2\n\\item 0\n\\item 0\n\\item 2\n\\item 1\n\\end{enumerate*}\n",
            "text/plain": [
              " [1] 2 1 1 2 4 0 2 2 2 2 0 4 3 0 3 2 0 0 2 1"
            ]
          },
          "metadata": {}
        }
      ]
    },
    {
      "cell_type": "code",
      "source": [
        "# Vamos visualizar as principais estatísticas descritivas\n",
        "\n",
        "desctrivas3 = psych::describe(poisson1, quant = c(0.25, 0.75))\n",
        "desctrivas3"
      ],
      "metadata": {
        "colab": {
          "base_uri": "https://localhost:8080/",
          "height": 129
        },
        "id": "pAxNfX9S_iXs",
        "outputId": "b0b645fe-66f3-47bd-e67a-e118dd5d32f2"
      },
      "execution_count": 51,
      "outputs": [
        {
          "output_type": "display_data",
          "data": {
            "text/html": [
              "<table class=\"dataframe\">\n",
              "<caption>A psych: 1 × 15</caption>\n",
              "<thead>\n",
              "\t<tr><th scope=col>vars</th><th scope=col>n</th><th scope=col>mean</th><th scope=col>sd</th><th scope=col>median</th><th scope=col>trimmed</th><th scope=col>mad</th><th scope=col>min</th><th scope=col>max</th><th scope=col>range</th><th scope=col>skew</th><th scope=col>kurtosis</th><th scope=col>se</th><th scope=col>Q0.25</th><th scope=col>Q0.75</th></tr>\n",
              "\t<tr><th scope=col>&lt;dbl&gt;</th><th scope=col>&lt;dbl&gt;</th><th scope=col>&lt;dbl&gt;</th><th scope=col>&lt;dbl&gt;</th><th scope=col>&lt;dbl&gt;</th><th scope=col>&lt;dbl&gt;</th><th scope=col>&lt;dbl&gt;</th><th scope=col>&lt;dbl&gt;</th><th scope=col>&lt;dbl&gt;</th><th scope=col>&lt;dbl&gt;</th><th scope=col>&lt;dbl&gt;</th><th scope=col>&lt;dbl&gt;</th><th scope=col>&lt;dbl&gt;</th><th scope=col>&lt;dbl&gt;</th><th scope=col>&lt;dbl&gt;</th></tr>\n",
              "</thead>\n",
              "<tbody>\n",
              "\t<tr><td>1</td><td>20</td><td>1.65</td><td>1.268028</td><td>2</td><td>1.5625</td><td>1.4826</td><td>0</td><td>4</td><td>4</td><td>0.1945945</td><td>-0.9624495</td><td>0.2835397</td><td>0.75</td><td>2</td></tr>\n",
              "</tbody>\n",
              "</table>\n"
            ],
            "text/markdown": "\nA psych: 1 × 15\n\n| vars &lt;dbl&gt; | n &lt;dbl&gt; | mean &lt;dbl&gt; | sd &lt;dbl&gt; | median &lt;dbl&gt; | trimmed &lt;dbl&gt; | mad &lt;dbl&gt; | min &lt;dbl&gt; | max &lt;dbl&gt; | range &lt;dbl&gt; | skew &lt;dbl&gt; | kurtosis &lt;dbl&gt; | se &lt;dbl&gt; | Q0.25 &lt;dbl&gt; | Q0.75 &lt;dbl&gt; |\n|---|---|---|---|---|---|---|---|---|---|---|---|---|---|---|\n| 1 | 20 | 1.65 | 1.268028 | 2 | 1.5625 | 1.4826 | 0 | 4 | 4 | 0.1945945 | -0.9624495 | 0.2835397 | 0.75 | 2 |\n\n",
            "text/latex": "A psych: 1 × 15\n\\begin{tabular}{lllllllllllllll}\n vars & n & mean & sd & median & trimmed & mad & min & max & range & skew & kurtosis & se & Q0.25 & Q0.75\\\\\n <dbl> & <dbl> & <dbl> & <dbl> & <dbl> & <dbl> & <dbl> & <dbl> & <dbl> & <dbl> & <dbl> & <dbl> & <dbl> & <dbl> & <dbl>\\\\\n\\hline\n\t 1 & 20 & 1.65 & 1.268028 & 2 & 1.5625 & 1.4826 & 0 & 4 & 4 & 0.1945945 & -0.9624495 & 0.2835397 & 0.75 & 2\\\\\n\\end{tabular}\n",
            "text/plain": [
              "  vars n  mean sd       median trimmed mad    min max range skew     \n",
              "1 1    20 1.65 1.268028 2      1.5625  1.4826 0   4   4     0.1945945\n",
              "  kurtosis   se        Q0.25 Q0.75\n",
              "1 -0.9624495 0.2835397 0.75  2    "
            ]
          },
          "metadata": {}
        }
      ]
    },
    {
      "cell_type": "markdown",
      "source": [
        "A distribuição Poisson tem a característica de ter a média igual a variância, esse é o $\\lambda$. A variância foi de 1,59 e a média de 1,65, valores quase iguais, como esperado. Vamos visualizar o histograma:"
      ],
      "metadata": {
        "id": "g592QBGC_pdw"
      }
    },
    {
      "cell_type": "code",
      "source": [
        "hist(poisson1, main = \"Histograma - Poisson\", col = \"white\", border = \"black\", ylab = \"Frequência\", xlab = \"Intervalo\")"
      ],
      "metadata": {
        "colab": {
          "base_uri": "https://localhost:8080/",
          "height": 437
        },
        "id": "H9L5v3uKASLQ",
        "outputId": "443c7319-72dd-4265-8e6b-1301feff6866"
      },
      "execution_count": 53,
      "outputs": [
        {
          "output_type": "display_data",
          "data": {
            "text/plain": [
              "Plot with title “Histograma - Poisson”"
            ],
            "image/png": "[encoded data removed]"
          },
          "metadata": {
            "image/png": {
              "width": 420,
              "height": 420
            }
          }
        }
      ]
    },
    {
      "cell_type": "markdown",
      "source": [
        "Vamos trabalhar com um modelo de regressão linear simples. Vamos fazer a regressão de forma manual e dpois comparar com o resultado da biblioteca do R. Vamos trabalhar com o modelo matricial: \n",
        "\n",
        "$$y = X \\beta + u $$\n",
        "\n",
        "Em que $y$ é o vetor da variável dependente, $X$ é uma matriz de dimensão $n$ X $k$ das variáveis explicativas e $u$ o vetor $n$ X $1$ dos distúrbios não observados. O valor esperado e $u$ é zero. O estimador $\\hat{\\beta}$ de $\\beta$ é dado por:\n",
        "\n",
        "$$\\hat{\\beta} = (X'X)^{-1}X'y.$$\n",
        "\n",
        "Ou seja, vamos trabalhar com a matriz tranposta de X, o protudo $X'X$ e a matriz inversa deste proeuto. Depois multiplicar esse resultado pelo prouto $X'y$. "
      ],
      "metadata": {
        "id": "N4LMR6KL2FJ5"
      }
    },
    {
      "cell_type": "markdown",
      "source": [
        "Vamos montar o modelo matricial."
      ],
      "metadata": {
        "id": "AJmt6Xmc4ApB"
      }
    },
    {
      "cell_type": "code",
      "source": [
        "# Modelo matricial\n",
        "\n",
        "Y <- matrix(c(8, 5, 4, 3, 1), ncol = 1, nrow = 5, byrow = F) # vetor da variável dependente\n",
        "\n",
        "X <- matrix(c(1, 1, 1, 1, 1, 5, 3, 3, 1, 1), ncol = 2, nrow = 5, byrow = F) # matriz da constante e variável independente\n",
        "\n",
        "print(X) # exibindo X\n",
        "print(Y) # exibindo Y"
      ],
      "metadata": {
        "colab": {
          "base_uri": "https://localhost:8080/"
        },
        "id": "kst7TYGu4D_O",
        "outputId": "09fdcacd-526a-4293-a4fd-e39170b20e33"
      },
      "execution_count": 38,
      "outputs": [
        {
          "output_type": "stream",
          "name": "stdout",
          "text": [
            "     [,1] [,2]\n",
            "[1,]    1    5\n",
            "[2,]    1    3\n",
            "[3,]    1    3\n",
            "[4,]    1    1\n",
            "[5,]    1    1\n",
            "     [,1]\n",
            "[1,]    8\n",
            "[2,]    5\n",
            "[3,]    4\n",
            "[4,]    3\n",
            "[5,]    1\n"
          ]
        }
      ]
    },
    {
      "cell_type": "code",
      "source": [
        "# Operações \n",
        "\n",
        "XT <- t(X) # tranposta de X\n",
        "print(XT)\n",
        "\n",
        "XTX <- XT %*% X # produto de X e sua tranposta\n",
        "print(XTX)\n",
        "\n",
        "XTY <- XT %*% Y # produto da tranposta de X e Y\n",
        "print(XTY)"
      ],
      "metadata": {
        "colab": {
          "base_uri": "https://localhost:8080/"
        },
        "id": "1WjHYMmP42r3",
        "outputId": "b35ad322-7879-401a-99c2-f8587a840f67"
      },
      "execution_count": 39,
      "outputs": [
        {
          "output_type": "stream",
          "name": "stdout",
          "text": [
            "     [,1] [,2] [,3] [,4] [,5]\n",
            "[1,]    1    1    1    1    1\n",
            "[2,]    5    3    3    1    1\n",
            "     [,1] [,2]\n",
            "[1,]    5   13\n",
            "[2,]   13   45\n",
            "     [,1]\n",
            "[1,]   21\n",
            "[2,]   71\n"
          ]
        }
      ]
    },
    {
      "cell_type": "code",
      "source": [
        "YT <- t(Y) # transposta de Y\n",
        "print(YT)\n",
        "\n",
        "invXTX <- solve(XTX) # inversa de X'X\n",
        "print(invXTX)"
      ],
      "metadata": {
        "colab": {
          "base_uri": "https://localhost:8080/"
        },
        "id": "IIypHWln7Cg9",
        "outputId": "f495e871-58c4-4b38-bb7f-106f54f7ea72"
      },
      "execution_count": 40,
      "outputs": [
        {
          "output_type": "stream",
          "name": "stdout",
          "text": [
            "     [,1] [,2] [,3] [,4] [,5]\n",
            "[1,]    8    5    4    3    1\n",
            "           [,1]        [,2]\n",
            "[1,]  0.8035714 -0.23214286\n",
            "[2,] -0.2321429  0.08928571\n"
          ]
        }
      ]
    },
    {
      "cell_type": "code",
      "source": [
        "# Vamos calcular o estimador Beta e o intercepto\n",
        "\n",
        "betas <- invXTX %*% XTY\n",
        "betas"
      ],
      "metadata": {
        "colab": {
          "base_uri": "https://localhost:8080/",
          "height": 114
        },
        "id": "NiAoOSgQ7RMj",
        "outputId": "37900943-1a83-4d67-ea98-55a8b2b7e39f"
      },
      "execution_count": 41,
      "outputs": [
        {
          "output_type": "display_data",
          "data": {
            "text/html": [
              "<table class=\"dataframe\">\n",
              "<caption>A matrix: 2 × 1 of type dbl</caption>\n",
              "<tbody>\n",
              "\t<tr><td>0.3928571</td></tr>\n",
              "\t<tr><td>1.4642857</td></tr>\n",
              "</tbody>\n",
              "</table>\n"
            ],
            "text/markdown": "\nA matrix: 2 × 1 of type dbl\n\n| 0.3928571 |\n| 1.4642857 |\n\n",
            "text/latex": "A matrix: 2 × 1 of type dbl\n\\begin{tabular}{l}\n\t 0.3928571\\\\\n\t 1.4642857\\\\\n\\end{tabular}\n",
            "text/plain": [
              "     [,1]     \n",
              "[1,] 0.3928571\n",
              "[2,] 1.4642857"
            ]
          },
          "metadata": {}
        }
      ]
    },
    {
      "cell_type": "markdown",
      "source": [
        "O resultado do modelo foi de \n",
        "\n",
        "$$ \\hat{y} = 0,40 + 1,46*x$$\n",
        "\n",
        "O coeficiente angular da reta de regressão foi positivo, isto é, indica que a variação da variável $x$ tem efeito positivo sobre $y$ no modelo. "
      ],
      "metadata": {
        "id": "INYCYZLf7cKd"
      }
    },
    {
      "cell_type": "markdown",
      "source": [
        "Agora vamos trabalhar com uma função pronta do própio R, a $lm$:\n",
        "\n",
        "lm(y \\~ x)"
      ],
      "metadata": {
        "id": "gomkvoUv8FO3"
      }
    },
    {
      "cell_type": "code",
      "source": [
        "# Vamos trabalhar com a função lm\n",
        "\n",
        "# Primeiro vamos ajustar a matrix X, pois a função já gera a constante\n",
        "X <- matrix(c( 5, 3, 3, 1, 1), ncol = 1, nrow = 5, byrow = F)\n",
        "\n",
        "ols = lm(Y ~ X)\n",
        "print(ols)"
      ],
      "metadata": {
        "colab": {
          "base_uri": "https://localhost:8080/"
        },
        "id": "RLvBuB3T8Xwl",
        "outputId": "4eb36e80-5e00-4cbd-9926-b3e9e8662301"
      },
      "execution_count": 43,
      "outputs": [
        {
          "output_type": "stream",
          "name": "stdout",
          "text": [
            "\n",
            "Call:\n",
            "lm(formula = Y ~ X)\n",
            "\n",
            "Coefficients:\n",
            "(Intercept)            X  \n",
            "     0.3929       1.4643  \n",
            "\n"
          ]
        }
      ]
    },
    {
      "cell_type": "markdown",
      "source": [
        "Como observado, o resultado gera o mesmo valor do cálculo manual de \n",
        "$$ \\hat{y} = 0,40 + 1,46*x$$\n",
        "\n",
        "Isso indica a importância de se conhecer álgebra linear, principalmente operação envolvendo vetores e matrizes. 😀"
      ],
      "metadata": {
        "id": "VynrFsow8_-T"
      }
    }
  ]
}