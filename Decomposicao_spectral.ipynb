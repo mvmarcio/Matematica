{
  "nbformat": 4,
  "nbformat_minor": 0,
  "metadata": {
    "colab": {
      "provenance": [],
      "authorship_tag": "ABX9TyMNqgkJX3p0VZdoa+912LVU",
      "include_colab_link": true
    },
    "kernelspec": {
      "name": "python3",
      "display_name": "Python 3"
    },
    "language_info": {
      "name": "python"
    }
  },
  "cells": [
    {
      "cell_type": "markdown",
      "metadata": {
        "id": "view-in-github",
        "colab_type": "text"
      },
      "source": [
        "<a href=\"https://colab.research.google.com/github/mvmarcio/Matematica/blob/main/Decomposicao_spectral.ipynb\" target=\"_parent\"><img src=\"https://colab.research.google.com/assets/colab-badge.svg\" alt=\"Open In Colab\"/></a>"
      ]
    },
    {
      "cell_type": "markdown",
      "source": [
        "## **Decomposição Espectral**\n",
        "\n",
        "![espctro2.jpeg](data:image/jpeg;base64,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)"
      ],
      "metadata": {
        "id": "2-mviJGKuH-H"
      }
    },
    {
      "cell_type": "markdown",
      "source": [
        "O objetivo deste notebook é fazer uma breve introdução sobre a análise espectral para operadores lineares simétricos. A análise espectral é muito importante para álgebra linear, pois garantem resultados importantes em análises mais avançadas que são aplicadas em ciência de dados.\n",
        "\n",
        "Inicialmente será feita uma revisão de alguns conceitos como matrizes simétricas, autovalores e autovetores. Sem dúvida esse é um dos resultados mais elegantes da álgebra linear."
      ],
      "metadata": {
        "id": "15oDPCsfvZEq"
      }
    },
    {
      "cell_type": "markdown",
      "source": [
        "### **1. Matrizes simétricas**\n",
        "\n",
        "De maneira resumida, matrizes simétricas são aquelas cuja transposta é igual a matriz original, ou seja, se invertermos as posições das linhas e colunas a matriz continua igual. Segue abaixo um exemplo de matriz simétrica:\n",
        "\n",
        "\n",
        "$$ A = \\begin{bmatrix}\n",
        "9 & 2 \\\\\n",
        "2 & 1 \n",
        "\\end{bmatrix} $$\n",
        "\n",
        "E a sua transposta é dada por:\n",
        "\n",
        "$$ A'  = \\begin{bmatrix}\n",
        "9 & 2 \\\\\n",
        "2 & 1 \n",
        "\\end{bmatrix} $$"
      ],
      "metadata": {
        "id": "hs9Voj_OwdZV"
      }
    },
    {
      "cell_type": "markdown",
      "source": [
        "### **2. Autovalores e Autovetores**\n",
        "\n",
        "De maneira intuitiva os autovalores são operadores lineares que dado um espaço vetorial $A$ fazem com que $Ax=\\lambda x$, com $x \\not= 0$, ou seja, um valor própio (**autovalor**) $λ$ que leva $A$ até um vetor próprio $x$. \n",
        "\n",
        "O vetor próprio $x$ também é conhecido como **autovetor** assoaciado.\n",
        "\n",
        "Autovalores e autovetores são fundamentais no estudo de álgebra linear, pois geram resultados importantes principalmente em modelos matriciais. "
      ],
      "metadata": {
        "id": "FxALVSaVyaQ0"
      }
    },
    {
      "cell_type": "markdown",
      "source": [
        "### **3. Decomposição Espectral**\n",
        "\n",
        "Dada uma matriz quadrada simétrica, nós podemos fazer escrevê-la da seguinte forma:\n",
        "\n",
        "$$\n",
        "A = P Λ P'\n",
        "$$\n",
        "\n",
        "Em que $P$ é a mtriz de autovetores associais, $Λ$ é a matriz dos autovalores e $P'$ é a matriz transposta dos autovalores. Essa maneira de reescrever uma matriz quadradada simétrica é conhecida como decomposição espectral ou decomposição de Jordan.\n",
        "\n",
        "A decomposição espectral gera resultados importantes para diversos modelos estatísticas aplicados à ciência de dados. Além do que o seu resultado é muito elegante."
      ],
      "metadata": {
        "id": "NRv-l_G1056k"
      }
    },
    {
      "cell_type": "markdown",
      "source": [
        "### **4. Aplicação em Python**\n",
        "\n",
        "Agora vamos fazer um exemplo utilizando a linguagem Python. Vamos trabalhar com a seguinte matriz:\n",
        "\n",
        "$$ A = \\begin{bmatrix}\n",
        "9 & 2 \\\\\n",
        "2 & 1 \n",
        "\\end{bmatrix} $$\n",
        "\n",
        "Para facilitar as contas vamos utilizar as funções prontas da biblioteca do [NumPy](https://numpy.org/). Mas não é difícil implementar o algoritmo do zero, mas isso fica para um próximo notebook 😊."
      ],
      "metadata": {
        "id": "SGj5O1am2U9V"
      }
    },
    {
      "cell_type": "code",
      "source": [
        "# Importanto a biblioteca do Numpy\n",
        "\n",
        "import numpy as np"
      ],
      "metadata": {
        "id": "TCCbX8jG2tum"
      },
      "execution_count": 1,
      "outputs": []
    },
    {
      "cell_type": "code",
      "source": [
        "# Vamos criar a matriz\n",
        "\n",
        "A = np.array([[9,2], \n",
        "              [2,1]])\n",
        "\n",
        "print(A)"
      ],
      "metadata": {
        "colab": {
          "base_uri": "https://localhost:8080/"
        },
        "id": "Jt9hhppv3fe2",
        "outputId": "f64ec2eb-f257-4a40-e63f-9b096a31b8d7"
      },
      "execution_count": 2,
      "outputs": [
        {
          "output_type": "stream",
          "name": "stdout",
          "text": [
            "[[9 2]\n",
            " [2 1]]\n"
          ]
        }
      ]
    },
    {
      "cell_type": "code",
      "source": [
        "# Vamos gerar os autovalores e autovetores\n",
        "\n",
        "w, v = np.linalg.eig(A)\n",
        "\n",
        "print('Os autovalores da matriz A são {}.'.format(w))\n",
        "print('\\nO autoespaço associado à matriz A é \\n{}.'.format(v))"
      ],
      "metadata": {
        "colab": {
          "base_uri": "https://localhost:8080/"
        },
        "id": "4yfkaqXp3zJJ",
        "outputId": "23eba996-d564-46ec-81c0-3265d82727d7"
      },
      "execution_count": 7,
      "outputs": [
        {
          "output_type": "stream",
          "name": "stdout",
          "text": [
            "Os autovalores da matriz A são [9.47213595 0.52786405].\n",
            "\n",
            "O autoespaço associado à matriz A é \n",
            "[[ 0.97324899 -0.22975292]\n",
            " [ 0.22975292  0.97324899]].\n"
          ]
        }
      ]
    },
    {
      "cell_type": "markdown",
      "source": [
        "Como a linguagem Python gera os resultados em valores decimais vou colocar aqui os valores originais sem aproximções. Os autovalores da matriz $A$ são:\n",
        "\n",
        "$$\n",
        "λ_1 = 5 + 2\\sqrt{5} \\\\  λ_2 = 5 - 2\\sqrt{5}\n",
        "$$\n",
        "\n",
        "Já os autovetores ortonormais são:\n",
        "\n",
        "$$ P = \\begin{bmatrix}\n",
        "\\frac{2 + \\sqrt{5}}{\\sqrt{10+4\\sqrt{5}}} & \\frac{1}{\\sqrt{10+4\\sqrt{5}}} \\\\\n",
        "\\frac{2 - \\sqrt{5}}{\\sqrt{2+4\\sqrt{5}}} & \\frac{1}{\\sqrt{2+4\\sqrt{5}}} \n",
        "\\end{bmatrix} $$"
      ],
      "metadata": {
        "id": "M7_IpHUp5R4T"
      }
    },
    {
      "cell_type": "code",
      "source": [
        "# Agora vamos calcular a decomposição espectral\n",
        "\n",
        "Lambda = np.diag(w)\n",
        "print(Lambda)"
      ],
      "metadata": {
        "colab": {
          "base_uri": "https://localhost:8080/"
        },
        "id": "zMsce2Xm_A3e",
        "outputId": "b9cb7658-7576-44c7-cd4e-414939a6aa2f"
      },
      "execution_count": 10,
      "outputs": [
        {
          "output_type": "stream",
          "name": "stdout",
          "text": [
            "[[9.47213595 0.        ]\n",
            " [0.         0.52786405]]\n"
          ]
        }
      ]
    },
    {
      "cell_type": "code",
      "source": [
        "# Determinando a transformacao\n",
        "\n",
        "from numpy import linalg as lg\n",
        "\n",
        "w2 = np.array([[9.47213595, 0], [0, 0.52786405]])\n",
        "print(w2)\n",
        "\n",
        "# Fazendo a decomposição\n",
        "\n",
        "v @ w2 @ np.transpose(v)"
      ],
      "metadata": {
        "colab": {
          "base_uri": "https://localhost:8080/"
        },
        "id": "MtHEkpdM_uTU",
        "outputId": "bccfb2cb-06f4-4ff7-b784-623a3e90ca53"
      },
      "execution_count": 18,
      "outputs": [
        {
          "output_type": "stream",
          "name": "stdout",
          "text": [
            "[[9.47213595 0.        ]\n",
            " [0.         0.52786405]]\n"
          ]
        },
        {
          "output_type": "execute_result",
          "data": {
            "text/plain": [
              "array([[9., 2.],\n",
              "       [2., 1.]])"
            ]
          },
          "metadata": {},
          "execution_count": 18
        }
      ]
    },
    {
      "cell_type": "markdown",
      "source": [
        "### **Resultados**\n",
        "\n",
        "Os resultados exatos ficaram da seguinte forma:\n",
        "\n",
        "$$\n",
        "A = PΛP'= \\begin{bmatrix}\n",
        "\\frac{2 + \\sqrt{5}}{\\sqrt{10+4\\sqrt{5}}} & \\frac{1}{\\sqrt{10+4\\sqrt{5}}} \\\\\n",
        "\\frac{2 - \\sqrt{5}}{\\sqrt{2+4\\sqrt{5}}} & \\frac{1}{\\sqrt{2+4\\sqrt{5}}} \n",
        "\\end{bmatrix}   \\begin{bmatrix}\n",
        "5 + 2\\sqrt{5} & 0 \\\\\n",
        "0 & 5 - 2\\sqrt{5} \n",
        "\\end{bmatrix} \\begin{bmatrix}\n",
        "\\frac{2 + \\sqrt{5}}{\\sqrt{10+4\\sqrt{5}}} & \\frac{2 - \\sqrt{5}}{\\sqrt{2+4\\sqrt{5}}} \\\\\n",
        "\\frac{1}{\\sqrt{10+4\\sqrt{5}}} & \\frac{1}{\\sqrt{2+4\\sqrt{5}}} \n",
        "\\end{bmatrix}\n",
        "$$"
      ],
      "metadata": {
        "id": "txw1Uu-6B7m_"
      }
    },
    {
      "cell_type": "markdown",
      "source": [
        "### **Conclusão**\n",
        "\n",
        "Espero que tenham gostado do notebook. Qualquer erro estou à disposição para corrigir. Os próximos notebooks trago as aplicações"
      ],
      "metadata": {
        "id": "vRjTBod9EZOg"
      }
    }
  ]
}