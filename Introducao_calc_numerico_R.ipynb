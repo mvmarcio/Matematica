{
  "nbformat": 4,
  "nbformat_minor": 0,
  "metadata": {
    "colab": {
      "provenance": [],
      "authorship_tag": "ABX9TyO00srUVEqjGTPz2GTGWKiN",
      "include_colab_link": true
    },
    "kernelspec": {
      "name": "ir",
      "display_name": "R"
    },
    "language_info": {
      "name": "R"
    }
  },
  "cells": [
    {
      "cell_type": "markdown",
      "metadata": {
        "id": "view-in-github",
        "colab_type": "text"
      },
      "source": [
        "<a href=\"https://colab.research.google.com/github/mvmarcio/Matematica/blob/main/Introducao_calc_numerico_R.ipynb\" target=\"_parent\"><img src=\"https://colab.research.google.com/assets/colab-badge.svg\" alt=\"Open In Colab\"/></a>"
      ]
    },
    {
      "cell_type": "markdown",
      "source": [
        "## **Objetivo**\n",
        "\n",
        "O objetivo deste *scripit* é construir algoritmos que introduzem os conceitos de cálculo numérico. \n",
        "\n",
        "Este campo da matemática procura desenvolver maneiras lógicas para resolver problemas, que melhora a capacidade analítica de problemas que envolvem dados. \n",
        "\n",
        "Essa cadeira é a união entre a matemática, lógica e programação."
      ],
      "metadata": {
        "id": "D9-35ii47At6"
      }
    },
    {
      "cell_type": "markdown",
      "source": [
        "### **1. Convertendo números decimais para binários**\n",
        "\n",
        "Estamos acostumados em utilizar o sistema decimal, mas existem outros sistemas como o binário. O computador utiliza esse sistema por exemplo. É bem interessante conhecer esse sistema para ter uma noção de como funciona a linguagem de \"máquina\". Segue abaixo o algoritmo para essa conversão.\n",
        "\n",
        "Para saber mais informações sobre o sistema binário: [Sistema Binário](https://https://en.wikipedia.org/wiki/Binary_number)."
      ],
      "metadata": {
        "id": "RZOeZeVW8Hok"
      }
    },
    {
      "cell_type": "code",
      "source": [
        "# 1. Conversor da base decimal para binaria\n",
        "\n",
        "baseBinaria <- function(a){ # construindo a funcao\n",
        "  if(a > 1) { # se o numero \"a\" for maior que 1.\n",
        "    baseBinaria(as.integer(a/2)) # operando a conversao\n",
        "  }\n",
        "  \n",
        "  cat(a%%2)\n",
        "}\n",
        "\n",
        "baseBinaria(347)\n",
        "\n",
        "# Vamos converter o número 347\n",
        "baseBinaria(347)"
      ],
      "metadata": {
        "colab": {
          "base_uri": "https://localhost:8080/"
        },
        "id": "coV0PPNX9E_P",
        "outputId": "907767e0-353b-4ae8-ffd2-f522d108575d"
      },
      "execution_count": 7,
      "outputs": [
        {
          "output_type": "stream",
          "name": "stdout",
          "text": [
            "101011011101011011"
          ]
        }
      ]
    },
    {
      "cell_type": "markdown",
      "source": [
        "### **1. Convertendo números binários para decimais**\n",
        "\n",
        "Agora vamos realizar a análise inversa: vamos transformar números binários em decimais. A ideia é ver como essa informação binária chegaria até nós: o computador transmite o código binário que é convertindo em número decima para nosso melhor entendimento. Segue abaixo o algoritmo. "
      ],
      "metadata": {
        "id": "eM9WAMq1-bTA"
      }
    },
    {
      "cell_type": "code",
      "source": [
        "# 2. Conversor da base Binaria para a decimal\n",
        "\n",
        "baseDecimal <- function(b){\n",
        "  b <- as.character(as.numeric(b))\n",
        "  c <- as.numeric(unlist(strsplit(b, \"\")))\n",
        "  \n",
        "  pow <- 2^((length(c) - 1):0)\n",
        "  soma <- sum(pow[c == 1])\n",
        "  cat(\"O número na base decimal é: \", soma)\n",
        "}\n",
        "\n",
        "# Vamos trazer o número 347 de volta para a base decimal\n",
        "baseDecimal(101011011)"
      ],
      "metadata": {
        "colab": {
          "base_uri": "https://localhost:8080/"
        },
        "id": "rcdCaDUT_FMH",
        "outputId": "0ef190bb-d235-409f-ab9a-95f2726bf49c"
      },
      "execution_count": 17,
      "outputs": [
        {
          "output_type": "stream",
          "name": "stdout",
          "text": [
            "O número na base decimal é:  347"
          ]
        }
      ]
    },
    {
      "cell_type": "markdown",
      "source": [
        "### **3. Econtrando Raízes por Meio do Método da Bissecção**\n",
        "\n",
        "Esse método tem esse nome por que busca encontrar raízes de equações utilizando o ponto médio de um intervalo. Muitas vezes não conseguimos encontra o valor das raízes de uma equação, mas podemos encontrar uma boa aproximação dentro de um intervalo. É um método recursivo, ou seja, podemos fazer inúmeras vezes até econtrar a aproximação desejada. \n",
        "\n",
        "O raciocínio por trás deste método pode ser fundametal na resolução de problemas envolvendo algoritmos de *machine learning*, como regressão logística que precimaos encontrar o log de máxima verossimilhança da função. \n",
        "\n",
        "Para mais informações sobre o tema: [Método da Bissecação](https://https://en.wikipedia.org/wiki/Bisection_method)"
      ],
      "metadata": {
        "id": "2kEqLXxSAkGY"
      }
    },
    {
      "cell_type": "code",
      "source": [
        "# 4. Metodo da bisseccao\n",
        "\n",
        "bisseccao <- function(a, b, e, fx){   # funcao da bisseccao depende dos parametros a, b (limites do intervalo),\n",
        "  if((b - a) < e){                      # e (epsilon da aproximacao) e fx (funcao)\n",
        "    raiz                              # quando (b - a) > 0 a raiz sera a\n",
        "  }\n",
        "  k = 0                               # criando o contador para parar o ciclo while\n",
        "  \n",
        "  while((b - a) > e){                 # O loop que enquanto (b-a)>0 teremos N = f(a)\n",
        "    N = fx(a)\n",
        "    x = (a + b)/2                     # x = (a+b)/2: e o ponto medio do intervalo\n",
        "    if(N*fx(x)>0){                    # Se N*fx > 0, entao a = x e caso contrario, b = x\n",
        "      a = x\n",
        "    }else{\n",
        "      b = x\n",
        "    }\n",
        "    k = k + 1                         # Finaliza o loop\n",
        "  }\n",
        "  \n",
        "  cat(\"A raiz aproximada no intervalo foi:\", x, \"e o número de interações:\", k)\n",
        "}\n",
        "\n",
        "# Vamos testar o algorimo no intervalo de (2, 3), com e = 0.000001 e a fx\n",
        "# f (x) = xlog(x) − 1:\n",
        "\n",
        "fx <- function(x) (x*log(x)-1)\n",
        "bisseccao(2, 3, 0.000001, fx) "
      ],
      "metadata": {
        "colab": {
          "base_uri": "https://localhost:8080/"
        },
        "id": "sAERqFZ6B0Yh",
        "outputId": "f1dffb21-da84-4efd-a2fa-ee2ec7682dae"
      },
      "execution_count": 18,
      "outputs": [
        {
          "output_type": "stream",
          "name": "stdout",
          "text": [
            "A raiz aproximada no intervalo foi: 2.999999 e o número de interações: 20"
          ]
        }
      ]
    },
    {
      "cell_type": "markdown",
      "source": [
        "### 4. Encontrando Raízes por Meio do Método da Secante**\n",
        "\n",
        "Lembrando de trigonometria que a secante era a função inversa do cosseno, $\\frac{1}{cosseno}$, este método este fundamento. É um algoritmo de busca de raízes que usa uma sequência de raízes de linhas secantes para aproximar cada vez melhor a raiz de uma função f. Para saber mais a respeito deste método: [Método das Secantes](https://https://en.wikipedia.org/wiki/Secant_method). "
      ],
      "metadata": {
        "id": "SS407WerCOOe"
      }
    },
    {
      "cell_type": "code",
      "source": [
        "# 6. Metodo da secante\n",
        "\n",
        "rm(list=ls()) # removendo valores da memória\n",
        "\n",
        "secante <- function(f, x0, x1, tol = 0.000000001, n = 10){\n",
        "  for (i in 1:n) {\n",
        "    x2 <- x1 - f(x1) / ((f(x1) - f(x0)) / (x1 - x0))\n",
        "    if(abs(x2 - x1) < tol){\n",
        "      return(cat(\"A raiz mais próxima de zero foi:\", x2))\n",
        "    }\n",
        "    \n",
        "    x0 <- x1\n",
        "    x1 <- x2\n",
        "  }\n",
        "}\n",
        "\n",
        "# Vamos testar o metodo com a funcao x^3 - 2* x - 5, y = 2 e w = 3\n",
        "funcao <- function(x){\n",
        "  x^3 - 2* x - 5\n",
        "}\n",
        "\n",
        "secante(funcao, 1, 3, tol = 0.0000001, n = 500)"
      ],
      "metadata": {
        "colab": {
          "base_uri": "https://localhost:8080/"
        },
        "id": "HeDO7-EZDpVN",
        "outputId": "a131a786-ae58-47eb-a89c-bdd6ed72bdf3"
      },
      "execution_count": 19,
      "outputs": [
        {
          "output_type": "stream",
          "name": "stdout",
          "text": [
            "A raiz mais próxima de zero foi: 2.094551"
          ]
        }
      ]
    },
    {
      "cell_type": "code",
      "source": [
        " # Vamos comparar Bhaskara com a Secante\n",
        "\n",
        " segundoGrau <- function(a, b, c){\n",
        "  \n",
        "  delta = b**2 - 4*a*c\n",
        "  \n",
        "  if(delta >= 0){\n",
        "    raiz1 = (-b + delta**0.5)/2*a\n",
        "    raiz2 = (-b - delta**0.5)/2*a\n",
        "    \n",
        "    return(cat(\" As raízes da equação são:\", raiz1, \"e\", raiz2))\n",
        "  } else{return(\"A equação não possui raízes reais\")}\n",
        "}\n",
        "\n",
        "print(segundoGrau(1, 4, -2))\n",
        "\n",
        "\n",
        "funcao <- function(x){\n",
        "  x**2 + 4*x - 2\n",
        "}\n",
        "\n",
        "print(secante(funcao, -1, 1))\n",
        "\n",
        "\n",
        "# As raízes positivas foram iguais. Para funções lineares o método das secantes \n",
        "# funciona muito bem. Em funções quadráticas tem a limitação por conta do número\n",
        "# de raízes. \n",
        "\n",
        "cat(\"=============================================================================\")\n",
        "\n",
        "cat(\"\\nAs raízes positivas foram iguais. Para funções lineares o método das secantes \n",
        "funciona muito bem. Em funções quadráticas tem a limitação por conta do número\n",
        "de raízes\")"
      ],
      "metadata": {
        "colab": {
          "base_uri": "https://localhost:8080/"
        },
        "id": "3PxX5XilD6_n",
        "outputId": "b2d3c2a9-b33c-467e-b82e-3c738e881dbe"
      },
      "execution_count": 31,
      "outputs": [
        {
          "output_type": "stream",
          "name": "stdout",
          "text": [
            " As raízes da equação são: 0.4494897 e -4.44949NULL\n",
            "A raiz mais próxima de zero foi: 0.4494897NULL\n",
            "=============================================================================\n",
            "As raízes positivas foram iguais. Para funções lineares o método das secantes \n",
            "funciona muito bem. Em funções quadráticas tem a limitação por conta do número\n",
            "de raízes"
          ]
        }
      ]
    }
  ]
}